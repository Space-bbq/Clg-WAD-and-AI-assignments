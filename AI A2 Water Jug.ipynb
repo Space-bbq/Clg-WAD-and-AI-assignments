{
 "cells": [
  {
   "cell_type": "code",
   "execution_count": 5,
   "id": "219ce9e6",
   "metadata": {
    "collapsed": true
   },
   "outputs": [
    {
     "name": "stdout",
     "output_type": "stream",
     "text": [
      "Enter the no.: 3\n",
      "Enter the no.: 4\n",
      "Enter the no.: 2\n",
      "JUG1\tJUG2\n",
      "0\t0\n",
      "3\t0\n",
      "0\t3\n",
      "3\t3\n",
      "2\t4\n",
      "0\t2\n"
     ]
    }
   ],
   "source": [
    "# Name: Gauri Khanzode \n",
    "# Roll no.: 3336\n",
    "# Assignment No.2\n",
    "\n",
    "max1 = int(input(\"Enter the no.: \"))\n",
    "max2 = int(input(\"Enter the no.: \"))\n",
    "fill = int(input(\"Enter the no.: \"))\n",
    "def pour(jug1,jug2):\n",
    "    print(\"%d\\t%d\"%(jug1,jug2))\n",
    "    if jug2==fill:\n",
    "        return\n",
    "    elif jug2==max2:\n",
    "        pour(0,jug1)\n",
    "    elif jug1 !=0 and jug2==0:\n",
    "        pour(0,jug1)\n",
    "    elif jug1==fill:\n",
    "        pour(jug1,0)\n",
    "    elif jug1 < max1:\n",
    "        pour(max1,jug2)\n",
    "    elif jug1 < (max2-jug2):\n",
    "        pour(0, (jug1+jug2))\n",
    "    else:\n",
    "        pour(jug1-(max2-jug2), (max2-jug2)+jug2)\n",
    "        \n",
    "print(\"JUG1\\tJUG2\")\n",
    "pour(0,0)"
   ]
  },
  {
   "cell_type": "code",
   "execution_count": null,
   "id": "a2754c4c",
   "metadata": {},
   "outputs": [],
   "source": []
  }
 ],
 "metadata": {
  "kernelspec": {
   "display_name": "Python 3 (ipykernel)",
   "language": "python",
   "name": "python3"
  },
  "language_info": {
   "codemirror_mode": {
    "name": "ipython",
    "version": 3
   },
   "file_extension": ".py",
   "mimetype": "text/x-python",
   "name": "python",
   "nbconvert_exporter": "python",
   "pygments_lexer": "ipython3",
   "version": "3.9.12"
  }
 },
 "nbformat": 4,
 "nbformat_minor": 5
}
