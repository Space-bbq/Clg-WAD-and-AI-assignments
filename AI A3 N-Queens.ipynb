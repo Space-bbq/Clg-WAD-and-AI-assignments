{
 "cells": [
  {
   "cell_type": "code",
   "execution_count": 1,
   "id": "4c8e445f",
   "metadata": {
    "collapsed": true
   },
   "outputs": [
    {
     "name": "stdout",
     "output_type": "stream",
     "text": [
      "Enter the number of Queens: 4\n",
      ". . Q .\n",
      "Q . . .\n",
      ". . . Q\n",
      ". Q . .\n"
     ]
    }
   ],
   "source": [
    "# Name: Gauri Khanzode \n",
    "# Roll no.: 3336\n",
    "# Assignment No.3 - N-Queens Problem\n",
    "# Problem Statement :- Implement n-queens problem.\n",
    "\n",
    "def print_board (board): \n",
    "    for row in board: \n",
    "        print(\" \".join(row))\n",
    "\n",
    "def is_safe (board, row, col):\n",
    "    for i in range(col):\n",
    "        if board[row] [i] == \"Q\":\n",
    "            return False\n",
    "    for i, j in zip (range(row, -1, -1), range(col, -1, -1)):\n",
    "        if board[i][j] == \"Q\":\n",
    "            return False\n",
    "    for i, j in zip (range(row, len (board), 1), range(col, -1,-1)):\n",
    "        if board[i][j] == \"Q\":\n",
    "            return False\n",
    "    return True\n",
    "\n",
    "def solve (board, col): \n",
    "    if col>= len(board):\n",
    "        return True\n",
    "    for i in range(len(board)):\n",
    "        if is_safe(board, i, col): \n",
    "            board[i][col] = \"Q\"\n",
    "            if solve(board, col+1):\n",
    "                return True\n",
    "            board[i][col] = \".\"\n",
    "    return False\n",
    "\n",
    "n = int(input(\"Enter the number of Queens: \"))\n",
    "board = [[\".\" for i in range(n)] for j in range(n)]\n",
    "\n",
    "if solve(board, 0):\n",
    "    print_board (board)\n",
    "else:\n",
    "    print(\"Solution not found\")"
   ]
  },
  {
   "cell_type": "code",
   "execution_count": null,
   "id": "247bd702",
   "metadata": {},
   "outputs": [],
   "source": []
  }
 ],
 "metadata": {
  "kernelspec": {
   "display_name": "Python 3 (ipykernel)",
   "language": "python",
   "name": "python3"
  },
  "language_info": {
   "codemirror_mode": {
    "name": "ipython",
    "version": 3
   },
   "file_extension": ".py",
   "mimetype": "text/x-python",
   "name": "python",
   "nbconvert_exporter": "python",
   "pygments_lexer": "ipython3",
   "version": "3.9.12"
  }
 },
 "nbformat": 4,
 "nbformat_minor": 5
}
