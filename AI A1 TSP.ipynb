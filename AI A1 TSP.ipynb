{
 "cells": [
  {
   "cell_type": "code",
   "execution_count": 10,
   "id": "17a3fedb",
   "metadata": {
    "collapsed": true
   },
   "outputs": [
    {
     "name": "stdout",
     "output_type": "stream",
     "text": [
      "Enter the no. of rows: 4\n",
      "Enter the no. of columns: 4\n",
      "Enter Matrix: \n",
      "0 5 15 4\n",
      "5 0 35 25\n",
      "15 35 0 30\n",
      "4 25 30 0\n",
      "\n",
      "\n",
      "The distance matrix is: \n",
      "\n",
      " [[0, 5, 15, 4], [5, 0, 35, 25], [15, 35, 0, 30], [4, 25, 30, 0]]\n",
      "\n",
      "\n",
      "Tour \t : [0, 3, 1, 2, 0]\n",
      "Total Cost:  79\n"
     ]
    }
   ],
   "source": [
    "# Name: Gauri Khanzode \n",
    "# Roll no.: 3336\n",
    "# Assignment No.1\n",
    "# User Defined Matrix in form of list\n",
    "\n",
    "import sys\n",
    "\n",
    "Rows = int(input(\"Enter the no. of rows: \"))\n",
    "Columns = int(input(\"Enter the no. of columns: \"))\n",
    "\n",
    "matrix = []\n",
    "\n",
    "print(\"Enter Matrix: \")\n",
    "\n",
    "for i in range(Rows):\n",
    "    a = list(map(int, input().split()))\n",
    "    matrix.append(a)\n",
    "    \n",
    "print(\"\\n\\nThe distance matrix is: \\n\\n\", matrix)\n",
    "\n",
    "def nearest_neighbor(curr, unvisited, matrix):\n",
    "    nearest = sys.maxsize\n",
    "    neighbor = None\n",
    "    \n",
    "    for city in unvisited:\n",
    "        if matrix[curr][city] < nearest:\n",
    "            nearest = matrix[curr][city]\n",
    "            neighbor = city\n",
    "            \n",
    "    return neighbor, nearest\n",
    "\n",
    "def tsp_nn(matrix):\n",
    "    n = len(matrix)\n",
    "    tour = [0] * (n+1)\n",
    "    unvisited = set(range(1,n))\n",
    "    curr_city = 0\n",
    "    \n",
    "    for i in range(1,n):\n",
    "        next_city, dist = nearest_neighbor(curr_city, unvisited, matrix)\n",
    "        tour[i] = next_city\n",
    "        curr_city = next_city\n",
    "        unvisited.remove(next_city)\n",
    "        \n",
    "    tour[0] = 0\n",
    "    \n",
    "    cost = sum(matrix[tour[i]] [tour[i+1]] for i in range(n-1))\n",
    "    cost += matrix[tour[n-1]] [tour[0]]\n",
    "    return tour, cost\n",
    "\n",
    "tour, cost = tsp_nn(matrix)\n",
    "\n",
    "print(\"\\n\\nTour \\t :\", tour)\n",
    "print(\"Total Cost: \", cost)"
   ]
  },
  {
   "cell_type": "code",
   "execution_count": null,
   "id": "a746776b",
   "metadata": {},
   "outputs": [],
   "source": []
  }
 ],
 "metadata": {
  "kernelspec": {
   "display_name": "Python 3 (ipykernel)",
   "language": "python",
   "name": "python3"
  },
  "language_info": {
   "codemirror_mode": {
    "name": "ipython",
    "version": 3
   },
   "file_extension": ".py",
   "mimetype": "text/x-python",
   "name": "python",
   "nbconvert_exporter": "python",
   "pygments_lexer": "ipython3",
   "version": "3.9.12"
  }
 },
 "nbformat": 4,
 "nbformat_minor": 5
}
